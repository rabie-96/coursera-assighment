{
  "metadata": {
    "kernelspec": {
      "name": "python",
      "display_name": "Python (Pyodide)",
      "language": "python"
    },
    "language_info": {
      "codemirror_mode": {
        "name": "python",
        "version": 3
      },
      "file_extension": ".py",
      "mimetype": "text/x-python",
      "name": "python",
      "nbconvert_exporter": "python",
      "pygments_lexer": "ipython3",
      "version": "3.8"
    }
  },
  "nbformat_minor": 4,
  "nbformat": 4,
  "cells": [
    {
      "cell_type": "markdown",
      "source": "# data since tools and eco systems\n",
      "metadata": {}
    },
    {
      "cell_type": "markdown",
      "source": "in this notebook , data since tools and ecosystems are summarized.\n",
      "metadata": {}
    },
    {
      "cell_type": "markdown",
      "source": "some of the popular languages that data scientist use are :\n1. R\n2. python\n3. java",
      "metadata": {}
    },
    {
      "cell_type": "markdown",
      "source": "some of the commonly used libraries used by data scientists include \n1. library 1\n2. library 2\n3. library 3\n   ",
      "metadata": {}
    },
    {
      "cell_type": "markdown",
      "source": "| Data science tools |\n|---------------|\n| ANACONDA |\n| VS CODE |\n| JUPTEER |",
      "metadata": {}
    },
    {
      "cell_type": "markdown",
      "source": "### Below are a few examples of evaluating arithmaetic expression in python ",
      "metadata": {}
    },
    {
      "cell_type": "code",
      "source": "(3*4)+5",
      "metadata": {
        "trusted": true
      },
      "outputs": [
        {
          "execution_count": 1,
          "output_type": "execute_result",
          "data": {
            "text/plain": "17"
          },
          "metadata": {}
        }
      ],
      "execution_count": 1
    },
    {
      "cell_type": "code",
      "source": "# this will convert 200 minutes to hours by diving by 60\nmins = 200\nhours = mins/60\nprint (hours)\n",
      "metadata": {
        "trusted": true
      },
      "outputs": [
        {
          "name": "stdout",
          "text": "3.3333333333333335\n",
          "output_type": "stream"
        }
      ],
      "execution_count": 4
    },
    {
      "cell_type": "markdown",
      "source": "**objectives:**\n- unorder list 1\n- 2\n-",
      "metadata": {}
    },
    {
      "cell_type": "markdown",
      "source": "## Author\nMHD Rabie Jamal Eddin",
      "metadata": {}
    },
    {
      "cell_type": "code",
      "source": "",
      "metadata": {
        "trusted": true
      },
      "outputs": [],
      "execution_count": null
    }
  ]
}